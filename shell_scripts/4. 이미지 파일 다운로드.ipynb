{
 "cells": [
  {
   "cell_type": "code",
   "execution_count": 7,
   "id": "102f21b0-ba90-4af9-8592-08b984b3637d",
   "metadata": {},
   "outputs": [],
   "source": [
    "import time\n",
    "from pathlib import Path\n",
    "from datetime import datetime\n",
    "\n",
    "from bs4 import BeautifulSoup\n",
    "import requests \n",
    "import lxml"
   ]
  },
  {
   "cell_type": "code",
   "execution_count": 13,
   "id": "36eea9eb-a686-4c7a-9241-4ebe89116e97",
   "metadata": {},
   "outputs": [],
   "source": [
    "path = Path(\"../assets/plants_description\")\n",
    "for filename in path.glob(\"*\"):\n",
    "    with open(filename, 'r', encoding=\"UTF-8\") as f:\n",
    "        soup = BeautifulSoup(f, features=\"xml\")\n",
    "        url = soup.find(\"imgUrl\")\n",
    "        if url != \"\" and url is not None and url.get_text().strip() != \"NONE\":\n",
    "            url = url.get_text().strip()\n",
    "            plant_no = soup.find('plantPilbkNo').get_text().strip()\n",
    "            family = soup.find('familyNm').get_text().strip()\n",
    "            genus = soup.find('genusNm').get_text().strip()\n",
    "            image_folder = f\"../assets/images/{plant_no}\"\n",
    "            Path(image_folder).mkdir(parents=True, exist_ok=True)\n",
    "            image_extension = url.split(\".\")[-1] \n",
    "            image_path = f\"../assets/images/{plant_no}/{datetime.today().strftime('%Y%m%d')}_00001.{image_extension}\"\n",
    "            if Path(image_path).exists():\n",
    "                continue\n",
    "            else:\n",
    "                file = requests.get(url, stream=True)\n",
    "                with open(image_path,\"wb\") as image:\n",
    "                    for chunk in file.iter_content(chunk_size=1024):\n",
    "                        if chunk:\n",
    "                            image.write(chunk)\n",
    "                time.sleep(4)            "
   ]
  }
 ],
 "metadata": {
  "kernelspec": {
   "display_name": "Django Shell-Plus",
   "language": "python",
   "name": "django_extensions"
  },
  "language_info": {
   "codemirror_mode": {
    "name": "ipython",
    "version": 3
   },
   "file_extension": ".py",
   "mimetype": "text/x-python",
   "name": "python",
   "nbconvert_exporter": "python",
   "pygments_lexer": "ipython3",
   "version": "3.10.5"
  }
 },
 "nbformat": 4,
 "nbformat_minor": 5
}
