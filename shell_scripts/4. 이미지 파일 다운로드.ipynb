{
 "cells": [
  {
   "cell_type": "code",
   "execution_count": 1,
   "id": "102f21b0-ba90-4af9-8592-08b984b3637d",
   "metadata": {},
   "outputs": [],
   "source": [
    "import time\n",
    "from pathlib import Path\n",
    "\n",
    "from bs4 import BeautifulSoup\n",
    "import requests \n",
    "import lxml"
   ]
  },
  {
   "cell_type": "code",
   "execution_count": 20,
   "id": "36eea9eb-a686-4c7a-9241-4ebe89116e97",
   "metadata": {},
   "outputs": [
    {
     "ename": "KeyboardInterrupt",
     "evalue": "",
     "output_type": "error",
     "traceback": [
      "\u001b[1;31m---------------------------------------------------------------------------\u001b[0m",
      "\u001b[1;31mKeyboardInterrupt\u001b[0m                         Traceback (most recent call last)",
      "Input \u001b[1;32mIn [20]\u001b[0m, in \u001b[0;36m<cell line: 2>\u001b[1;34m()\u001b[0m\n\u001b[0;32m     21\u001b[0m         \u001b[38;5;28;01mif\u001b[39;00m chunk:\n\u001b[0;32m     22\u001b[0m             image\u001b[38;5;241m.\u001b[39mwrite(chunk)\n\u001b[1;32m---> 23\u001b[0m \u001b[43mtime\u001b[49m\u001b[38;5;241;43m.\u001b[39;49m\u001b[43msleep\u001b[49m\u001b[43m(\u001b[49m\u001b[38;5;241;43m3\u001b[39;49m\u001b[43m)\u001b[49m\n",
      "\u001b[1;31mKeyboardInterrupt\u001b[0m: "
     ]
    }
   ],
   "source": [
    "path = Path(\"../assets/plants_description\")\n",
    "for filename in path.glob(\"*\"):\n",
    "    with open(filename, 'r', encoding=\"UTF-8\") as f:\n",
    "        soup = BeautifulSoup(f, features=\"xml\")\n",
    "        url = soup.find(\"imgUrl\")\n",
    "        if url != \"NONE\":\n",
    "            url = url.get_text().strip()\n",
    "            plant_no = soup.find('plantPilbkNo').get_text().strip()\n",
    "            family = soup.find('familyNm').get_text().strip()\n",
    "            genus = soup.find('genusNm').get_text().strip()\n",
    "            image_folder = f\"../assets/images/{family}/{genus}/{plant_no}\"\n",
    "            Path(image_folder).mkdir(parents=True, exist_ok=True)\n",
    "            image_extension = url.split(\".\")[-1] \n",
    "            image_path = f\"../assets/images/{family}/{genus}/{plant_no}/1.{image_extension}\"\n",
    "            if Path(image_path).exists():\n",
    "                continue\n",
    "            else:\n",
    "                file = requests.get(url, stream=True)\n",
    "                with open(image_path,\"wb\") as image:\n",
    "                    for chunk in file.iter_content(chunk_size=1024):\n",
    "                        if chunk:\n",
    "                            image.write(chunk)\n",
    "                time.sleep(3)            "
   ]
  }
 ],
 "metadata": {
  "kernelspec": {
   "display_name": "Django Shell-Plus",
   "language": "python",
   "name": "django_extensions"
  },
  "language_info": {
   "codemirror_mode": {
    "name": "ipython",
    "version": 3
   },
   "file_extension": ".py",
   "mimetype": "text/x-python",
   "name": "python",
   "nbconvert_exporter": "python",
   "pygments_lexer": "ipython3",
   "version": "3.10.5"
  }
 },
 "nbformat": 4,
 "nbformat_minor": 5
}
