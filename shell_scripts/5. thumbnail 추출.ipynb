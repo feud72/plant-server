{
 "cells": [
  {
   "cell_type": "code",
   "execution_count": 1,
   "id": "6262de41-1b3b-4349-9ddb-9a634aeef536",
   "metadata": {},
   "outputs": [],
   "source": [
    "from pathlib import Path\n",
    "from PIL import Image"
   ]
  },
  {
   "cell_type": "markdown",
   "id": "5d0ffa76-2ac2-4a46-aa90-89b4349496cd",
   "metadata": {},
   "source": [
    "### thumbnails 폴더로 이미지 이동"
   ]
  },
  {
   "cell_type": "code",
   "execution_count": 37,
   "id": "b6c90352-6fe6-440f-9e6b-fd174e97eb88",
   "metadata": {},
   "outputs": [],
   "source": [
    "def find_image_file(parent_path):\n",
    "    for path in parent_path.glob(\"*\"):\n",
    "        if path.is_dir():\n",
    "            return find_image_file(path)\n",
    "        else:\n",
    "            return path"
   ]
  },
  {
   "cell_type": "code",
   "execution_count": 42,
   "id": "acfbc614-9ef4-4407-bbbd-4b04251402f1",
   "metadata": {},
   "outputs": [],
   "source": [
    "root_path = Path(\"../assets/images\")\n",
    "thumbnail_path = Path(\"../assets/thumbnails\")\n",
    "thumbnail_path.mkdir(exist_ok=True)\n",
    "output_path = Path.joinpath(thumbnail_path, \"output\")\n",
    "output_path.mkdir(exist_ok=True)"
   ]
  },
  {
   "cell_type": "code",
   "execution_count": 28,
   "id": "4c57a48f-9ce5-43d7-9d7e-ae8c46b0b10d",
   "metadata": {},
   "outputs": [],
   "source": [
    "import shutil"
   ]
  },
  {
   "cell_type": "code",
   "execution_count": 40,
   "id": "57245579-592a-4778-b663-243d5c3e5bb1",
   "metadata": {},
   "outputs": [],
   "source": [
    "for path in root_path.glob(\"**\"):\n",
    "    origin = find_image_file(path)\n",
    "    if origin is None:\n",
    "        continue\n",
    "    destination = f\"{thumbnail_path}\\\\{origin.parent.name}{origin.suffix}\"\n",
    "    shutil.copy2(origin, destination)"
   ]
  },
  {
   "cell_type": "markdown",
   "id": "d0fb3006-e11f-4a7c-a0d2-6a4da43389b4",
   "metadata": {},
   "source": [
    "### 정사각형 형태로 crop"
   ]
  },
  {
   "cell_type": "code",
   "execution_count": null,
   "id": "95011c6c-dbf1-459c-a1a9-7f6bddec9544",
   "metadata": {},
   "outputs": [],
   "source": []
  }
 ],
 "metadata": {
  "kernelspec": {
   "display_name": "Django Shell-Plus",
   "language": "python",
   "name": "django_extensions"
  },
  "language_info": {
   "codemirror_mode": {
    "name": "ipython",
    "version": 3
   },
   "file_extension": ".py",
   "mimetype": "text/x-python",
   "name": "python",
   "nbconvert_exporter": "python",
   "pygments_lexer": "ipython3",
   "version": "3.10.5"
  }
 },
 "nbformat": 4,
 "nbformat_minor": 5
}
