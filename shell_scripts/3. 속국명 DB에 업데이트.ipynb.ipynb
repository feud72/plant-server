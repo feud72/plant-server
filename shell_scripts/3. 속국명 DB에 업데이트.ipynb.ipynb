{
 "cells": [
  {
   "cell_type": "code",
   "execution_count": 1,
   "id": "51e33303-74cc-4b17-9747-00629bbeee87",
   "metadata": {},
   "outputs": [],
   "source": [
    "import os\n",
    "import csv\n",
    "from pathlib import Path\n",
    "\n",
    "import django\n",
    "os.environ.setdefault('DJANGO_SETTINGS_MODULE', 'rest.settings')\n",
    "os.environ[\"DJANGO_ALLOW_ASYNC_UNSAFE\"] = \"true\"\n",
    "django.setup()"
   ]
  },
  {
   "cell_type": "code",
   "execution_count": 8,
   "id": "a15dd3fb-4be4-4ba5-af67-ead93e791ce8",
   "metadata": {},
   "outputs": [],
   "source": [
    "from bs4 import BeautifulSoup\n",
    "import lxml"
   ]
  },
  {
   "cell_type": "code",
   "execution_count": 14,
   "id": "e76c4156-8bbb-4f4f-abd6-b5060f8a0e54",
   "metadata": {},
   "outputs": [],
   "source": [
    "from taxonomy.models import Genus"
   ]
  },
  {
   "cell_type": "code",
   "execution_count": null,
   "id": "c396f67a-48a2-4e1d-8dd5-53893bf59155",
   "metadata": {},
   "outputs": [],
   "source": [
    "path = Path(\"../assets/plants_description\")\n",
    "for filename in path.glob(\"*\"):\n",
    "    with open(filename, 'r', encoding=\"UTF-8\") as f:\n",
    "        soup = BeautifulSoup(f, features=\"xml\")\n",
    "        name = soup.find(\"genusNm\")\n",
    "        if name is not None:\n",
    "            name = name.get_text().strip()\n",
    "        name_kor = soup.find(\"genusKorNm\")\n",
    "        if name_kor is not None:\n",
    "            name_kor = name_kor.get_text().strip()\n",
    "            if Genus.objects.filter(name__exact=name).exists():\n",
    "                object = Genus.objects.get(name=name)\n",
    "                object.name_kor = name_kor\n",
    "                object.save()"
   ]
  }
 ],
 "metadata": {
  "kernelspec": {
   "display_name": "Django Shell-Plus",
   "language": "python",
   "name": "django_extensions"
  },
  "language_info": {
   "codemirror_mode": {
    "name": "ipython",
    "version": 3
   },
   "file_extension": ".py",
   "mimetype": "text/x-python",
   "name": "python",
   "nbconvert_exporter": "python",
   "pygments_lexer": "ipython3",
   "version": "3.10.5"
  }
 },
 "nbformat": 4,
 "nbformat_minor": 5
}
