{
 "cells": [
  {
   "cell_type": "markdown",
   "id": "b7a76b6e-82c8-4d2f-8f02-dae9b424c199",
   "metadata": {},
   "source": [
    "### 라이브러리 및 모델 모듈 임포트"
   ]
  },
  {
   "cell_type": "code",
   "execution_count": 1,
   "id": "de1178c0-38e4-48d4-9319-e9603a8e51b6",
   "metadata": {},
   "outputs": [],
   "source": [
    "import os\n",
    "import django\n",
    "os.environ.setdefault('DJANGO_SETTINGS_MODULE', 'rest.settings')\n",
    "os.environ[\"DJANGO_ALLOW_ASYNC_UNSAFE\"] = \"true\"\n",
    "django.setup()"
   ]
  },
  {
   "cell_type": "code",
   "execution_count": 4,
   "id": "9555ab8f-569a-45db-8bf5-d5b27ac1747c",
   "metadata": {},
   "outputs": [],
   "source": [
    "from bs4 import BeautifulSoup\n",
    "import requests \n",
    "import lxml\n",
    "import time"
   ]
  },
  {
   "cell_type": "code",
   "execution_count": 40,
   "id": "7b5519dc-5947-4c27-a921-74ffd18c785d",
   "metadata": {},
   "outputs": [],
   "source": [
    "import csv\n",
    "from pathlib import Path"
   ]
  },
  {
   "cell_type": "code",
   "execution_count": 2,
   "id": "298e3e8f-2f06-4e9a-a6dc-7c0de97b50f4",
   "metadata": {},
   "outputs": [],
   "source": [
    "from django.conf import settings"
   ]
  },
  {
   "cell_type": "code",
   "execution_count": 3,
   "id": "30cbc9b8-4a7f-47dd-9e1f-6cabc89df375",
   "metadata": {},
   "outputs": [],
   "source": [
    "from plants.models import PlantTemporary\n",
    "from taxonomy.models import Species, Genus"
   ]
  },
  {
   "cell_type": "markdown",
   "id": "42871e59-e3a7-4b89-babc-55568bd5f7a6",
   "metadata": {},
   "source": [
    "### 상수 선언"
   ]
  },
  {
   "cell_type": "code",
   "execution_count": null,
   "id": "ed457161-d27c-416d-b629-276d684f6902",
   "metadata": {},
   "outputs": [],
   "source": [
    "API_KEY = settings.ENV.API_KEY"
   ]
  },
  {
   "cell_type": "code",
   "execution_count": 5,
   "id": "9838dde7-0432-424d-837d-6bb5c23ae29c",
   "metadata": {},
   "outputs": [],
   "source": [
    "SEARCH_WORDS_LIST = [item['name'] for item in Genus.objects.values('name')]"
   ]
  },
  {
   "cell_type": "code",
   "execution_count": 6,
   "id": "6ec5c025-292e-4a80-a53a-1a3add8ec3c9",
   "metadata": {},
   "outputs": [],
   "source": [
    "BASE_URL = \"http://openapi.nature.go.kr/openapi/service/rest/PlantService\"\n",
    "\n",
    "#식물도감 목록 검색\n",
    "ENDPOINT = \"/plntIlstrSearch\"\n",
    "PARAMS = {\"serviceKey\": API_KEY, \"st\" : \"2\", \"numOfRows\":\"1000\"}"
   ]
  },
  {
   "cell_type": "code",
   "execution_count": 7,
   "id": "dd2b798e-5cdc-484c-aa54-0b51352c0bd5",
   "metadata": {},
   "outputs": [],
   "source": [
    "URL = BASE_URL + ENDPOINT"
   ]
  },
  {
   "cell_type": "markdown",
   "id": "914a88c0-9619-4ace-81a1-1dff4651062d",
   "metadata": {
    "tags": []
   },
   "source": [
    "### 식물도감 목록 스크레이핑 및 XML 파일저장 "
   ]
  },
  {
   "cell_type": "code",
   "execution_count": 19,
   "id": "515f4801-52f1-44dc-a02c-f883e95c55f0",
   "metadata": {},
   "outputs": [],
   "source": [
    "for word in SEARCH_WORDS_LIST:\n",
    "    file_path = f'assets/plants_list/{word}.xml'\n",
    "    if Path(file_path).exists():\n",
    "        continue\n",
    "    time.sleep(3)\n",
    "    PARAMS['sw'] = word\n",
    "    response = requests.get(URL, params=PARAMS)\n",
    "    soup = BeautifulSoup(response.text, features=\"xml\")\n",
    "    with open(file_path, 'w', encoding=\"UTF-8\") as f:\n",
    "        f.write(soup.prettify())"
   ]
  },
  {
   "cell_type": "markdown",
   "id": "5dd206e6-13a1-4310-9364-5773549d9ee1",
   "metadata": {},
   "source": [
    "### 식물도감 상세정보 검색을 위해 XMl파일을 순회하여 키값(plantpilbkno) 추출, csv파일로 저장"
   ]
  },
  {
   "cell_type": "code",
   "execution_count": null,
   "id": "3ad116eb-0964-4a05-ad03-288478c57eee",
   "metadata": {},
   "outputs": [],
   "source": [
    "book_id_list = []\n",
    "\n",
    "for xml_file in Path(\"assets/plants_list/\").glob(\"*\"):\n",
    "    with open(xml_file, \"r\", encoding=\"UTF-8\") as f:\n",
    "        soup = BeautifulSoup(f, features=\"xml\")\n",
    "        items = soup.find_all(\"item\")\n",
    "        for item in items:\n",
    "            book_id = item.find(\"plantPilbkNo\")\n",
    "            if book_id:\n",
    "                book_id_list.append(book_id.get_text().strip())"
   ]
  },
  {
   "cell_type": "code",
   "execution_count": 54,
   "id": "8d22705c-45df-4e1f-b1b0-44523261286c",
   "metadata": {},
   "outputs": [],
   "source": [
    "with open(\"assets/pilbook_id.csv\", \"w\") as f:\n",
    "    writer = csv.writer(f)\n",
    "    writer.writerow(book_id_list)"
   ]
  },
  {
   "cell_type": "markdown",
   "id": "2c412dee-2629-4d5b-9c1c-0bffce0fcd9d",
   "metadata": {},
   "source": [
    "### 추출한 키 값을 이용하여 식물도감 상세정보 스크레이핑"
   ]
  },
  {
   "cell_type": "code",
   "execution_count": 43,
   "id": "bdabbf9b-ed5f-48f1-abe8-0fb06163d65f",
   "metadata": {},
   "outputs": [],
   "source": [
    "ENDPOINT = \"/plntIlstrInfo\"\n",
    "URL = BASE_URL + ENDPOINT\n",
    "PARAMS = {\"serviceKey\": API_KEY,}"
   ]
  },
  {
   "cell_type": "code",
   "execution_count": 59,
   "id": "182299a0-d537-4efb-bd02-c8d031f56520",
   "metadata": {},
   "outputs": [],
   "source": [
    "with open(\"assets/pilbook_id.csv\", \"r\") as f:\n",
    "    reader = csv.reader(f)\n",
    "    for row in reader:\n",
    "        for q1 in row:            \n",
    "            PARAMS[\"q1\"] = q1\n",
    "            file_path = f'assets/plants_description/{q1}.xml'\n",
    "            if Path(file_path).exists():\n",
    "                continue\n",
    "            time.sleep(3)\n",
    "            response = requests.get(URL, params=PARAMS)\n",
    "            soup = BeautifulSoup(response.text, features=\"xml\")\n",
    "            with open(file_path, 'w', encoding=\"UTF-8\") as f:\n",
    "                f.write(soup.prettify())"
   ]
  }
 ],
 "metadata": {
  "kernelspec": {
   "display_name": "Django Shell-Plus",
   "language": "python",
   "name": "django_extensions"
  },
  "language_info": {
   "codemirror_mode": {
    "name": "ipython",
    "version": 3
   },
   "file_extension": ".py",
   "mimetype": "text/x-python",
   "name": "python",
   "nbconvert_exporter": "python",
   "pygments_lexer": "ipython3",
   "version": "3.10.5"
  }
 },
 "nbformat": 4,
 "nbformat_minor": 5
}
