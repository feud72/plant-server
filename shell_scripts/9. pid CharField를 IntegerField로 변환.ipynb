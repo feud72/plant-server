{
 "cells": [
  {
   "cell_type": "code",
   "execution_count": 1,
   "id": "eea90ae6-b856-421e-ae55-f6cdcfe52b60",
   "metadata": {},
   "outputs": [],
   "source": [
    "import os\n",
    "import django\n",
    "os.environ.setdefault('DJANGO_SETTINGS_MODULE', 'rest.settings')\n",
    "os.environ[\"DJANGO_ALLOW_ASYNC_UNSAFE\"] = \"true\"\n",
    "django.setup()"
   ]
  },
  {
   "cell_type": "code",
   "execution_count": 2,
   "id": "feab9353-5789-46c4-92ac-b60875a61ee0",
   "metadata": {},
   "outputs": [],
   "source": [
    "from taxonomy.models import Species"
   ]
  },
  {
   "cell_type": "code",
   "execution_count": 3,
   "id": "8908424a-bc54-4ded-ba2d-a064cf6f15b7",
   "metadata": {},
   "outputs": [],
   "source": [
    "queryset = Species.objects.all()"
   ]
  },
  {
   "cell_type": "code",
   "execution_count": 4,
   "id": "70b3188b-60e1-42bb-b422-e68e352fa50d",
   "metadata": {},
   "outputs": [],
   "source": [
    "for obj in queryset:\n",
    "    if obj.pid is not None:\n",
    "        obj.pid2 = int(obj.pid)\n",
    "        obj.save()"
   ]
  }
 ],
 "metadata": {
  "kernelspec": {
   "display_name": "Django Shell-Plus",
   "language": "python",
   "name": "django_extensions"
  },
  "language_info": {
   "codemirror_mode": {
    "name": "ipython",
    "version": 3
   },
   "file_extension": ".py",
   "mimetype": "text/x-python",
   "name": "python",
   "nbconvert_exporter": "python",
   "pygments_lexer": "ipython3",
   "version": "3.10.5"
  }
 },
 "nbformat": 4,
 "nbformat_minor": 5
}
