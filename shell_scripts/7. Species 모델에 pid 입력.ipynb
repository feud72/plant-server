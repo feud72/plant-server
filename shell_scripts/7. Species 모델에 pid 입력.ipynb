{
 "cells": [
  {
   "cell_type": "code",
   "execution_count": 1,
   "id": "6565c7ba-d3a2-4eb4-8b7b-353e923247f5",
   "metadata": {},
   "outputs": [],
   "source": [
    "import os\n",
    "import django\n",
    "os.environ.setdefault('DJANGO_SETTINGS_MODULE', 'rest.settings')\n",
    "os.environ[\"DJANGO_ALLOW_ASYNC_UNSAFE\"] = \"true\"\n",
    "django.setup()\n",
    "from pathlib import Path"
   ]
  },
  {
   "cell_type": "code",
   "execution_count": 2,
   "id": "1e82109d-9902-469f-8948-997874efcf92",
   "metadata": {},
   "outputs": [],
   "source": [
    "from bs4 import BeautifulSoup\n",
    "import lxml"
   ]
  },
  {
   "cell_type": "code",
   "execution_count": 3,
   "id": "f8c5b044-a847-4fdb-8328-b3f43dd455da",
   "metadata": {},
   "outputs": [],
   "source": [
    "from taxonomy.models import Species"
   ]
  },
  {
   "cell_type": "code",
   "execution_count": 6,
   "id": "6ba6b1db-6a2a-4b5d-a829-305ed101b2e5",
   "metadata": {},
   "outputs": [
    {
     "name": "stdout",
     "output_type": "stream",
     "text": [
      "닥나무\n",
      "나무수국 '그란디플로라'\n",
      "흰말채나무 '아우레아'\n"
     ]
    }
   ],
   "source": [
    "path = Path(\"../assets/plants_description\")\n",
    "for filename in path.glob(\"*\"):\n",
    "    with open(filename, 'r', encoding=\"UTF-8\") as f:\n",
    "        soup = BeautifulSoup(f, features=\"xml\")\n",
    "        plant_no = soup.find('plantPilbkNo')\n",
    "        if plant_no != \"\" and plant_no is not None:\n",
    "            plant_no = plant_no.get_text().strip()\n",
    "            species_name = soup.find('plantGnrlNm').get_text().strip()\n",
    "            try:\n",
    "                obj = Species.objects.get(name_kor__exact=species_name)\n",
    "                obj.pid =  plant_no\n",
    "                obj.save()\n",
    "            except:\n",
    "                print(species_name)"
   ]
  }
 ],
 "metadata": {
  "kernelspec": {
   "display_name": "Django Shell-Plus",
   "language": "python",
   "name": "django_extensions"
  },
  "language_info": {
   "codemirror_mode": {
    "name": "ipython",
    "version": 3
   },
   "file_extension": ".py",
   "mimetype": "text/x-python",
   "name": "python",
   "nbconvert_exporter": "python",
   "pygments_lexer": "ipython3",
   "version": "3.10.5"
  }
 },
 "nbformat": 4,
 "nbformat_minor": 5
}
