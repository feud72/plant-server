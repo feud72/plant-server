{
 "cells": [
  {
   "cell_type": "code",
   "execution_count": 1,
   "id": "2050a026-0059-4512-a1f1-e989f2a5a6a8",
   "metadata": {},
   "outputs": [],
   "source": [
    "import os\n",
    "import django\n",
    "os.environ.setdefault('DJANGO_SETTINGS_MODULE', 'rest.settings')\n",
    "os.environ[\"DJANGO_ALLOW_ASYNC_UNSAFE\"] = \"true\"\n",
    "django.setup()"
   ]
  },
  {
   "cell_type": "code",
   "execution_count": 2,
   "id": "8eb88e63-5bb6-460a-b026-adf721a35b7a",
   "metadata": {},
   "outputs": [],
   "source": [
    "import random"
   ]
  },
  {
   "cell_type": "code",
   "execution_count": 5,
   "id": "c201422e-52cf-4f12-89bb-c97724454c19",
   "metadata": {},
   "outputs": [],
   "source": [
    "from photos.models import Photo"
   ]
  },
  {
   "cell_type": "code",
   "execution_count": 17,
   "id": "b5ddf56d-99c4-4615-89ca-d47d84ccb523",
   "metadata": {},
   "outputs": [],
   "source": [
    "from quizzes.models import Quiz, Answer"
   ]
  },
  {
   "cell_type": "code",
   "execution_count": 4,
   "id": "4ed2813b-b8a2-4f4a-95fe-f36031688866",
   "metadata": {},
   "outputs": [
    {
     "name": "stdout",
     "output_type": "stream",
     "text": [
      "[3, 3, 3, 4, 3, 4, 1, 3, 4, 1]\n"
     ]
    }
   ],
   "source": [
    "\n",
    "print(random_indices)"
   ]
  },
  {
   "cell_type": "code",
   "execution_count": 20,
   "id": "c596dfb1-a0aa-4435-9070-0fc58f6d5986",
   "metadata": {},
   "outputs": [],
   "source": [
    "random_indices = [random.randint(1,4) for _ in range(10)]\n",
    "\n",
    "photo_ids = Photo.objects.filter(species__isnull=False).order_by(\"?\")[:40].values_list('id', flat=True)\n",
    "\n",
    "quizzes = Quiz.objects.bulk_create([Quiz(correct_answer=correct_answer) for correct_answer in random_indices])\n",
    "\n",
    "for n, quiz in enumerate(quizzes):\n",
    "    photo_to_quiz_list = []\n",
    "    for i in range(4):\n",
    "        photo = Quiz.photos.through(quiz_id=quiz.id, photo_id=photo_ids[4*n+i])\n",
    "        photo_to_quiz_list.append(photo)\n",
    "    Quiz.photos.through.objects.bulk_create(photo_to_quiz_list)"
   ]
  },
  {
   "cell_type": "code",
   "execution_count": 16,
   "id": "6ce9ca35-a373-4a0f-a627-0d09a10ec8e1",
   "metadata": {},
   "outputs": [
    {
     "name": "stdout",
     "output_type": "stream",
     "text": [
      "40\n"
     ]
    }
   ],
   "source": [
    "print(len(photo_ids))"
   ]
  },
  {
   "cell_type": "code",
   "execution_count": 5,
   "id": "844c4e1a-6cf0-4e35-9e6c-cb207de6c864",
   "metadata": {},
   "outputs": [],
   "source": [
    "photos = Photo.objects.filter(species__isnull=False)"
   ]
  },
  {
   "cell_type": "code",
   "execution_count": 6,
   "id": "7010189d-0eaa-40f1-b0b5-7099743cbaf5",
   "metadata": {},
   "outputs": [],
   "source": [
    "for index in range(10):\n",
    "    random_photo_index = random.sample([photo['id'] for photo in photos.values()], 4)\n",
    "    random_photos = photos.filter(pk__in=random_photo_index)\n",
    "    instance = Quiz.objects.create(correct_answer=random.randint(1,4))\n",
    "    instance.photos.set(random_photos)\n",
    "    instance.save()"
   ]
  }
 ],
 "metadata": {
  "kernelspec": {
   "display_name": "Django Shell-Plus",
   "language": "python",
   "name": "django_extensions"
  },
  "language_info": {
   "codemirror_mode": {
    "name": "ipython",
    "version": 3
   },
   "file_extension": ".py",
   "mimetype": "text/x-python",
   "name": "python",
   "nbconvert_exporter": "python",
   "pygments_lexer": "ipython3",
   "version": "3.10.5"
  }
 },
 "nbformat": 4,
 "nbformat_minor": 5
}
