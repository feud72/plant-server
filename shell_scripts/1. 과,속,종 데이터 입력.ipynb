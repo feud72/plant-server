{
 "cells": [
  {
   "cell_type": "code",
   "execution_count": 1,
   "id": "69158807-b9ea-49f1-a5be-7d3d11dda325",
   "metadata": {},
   "outputs": [],
   "source": [
    "import os\n",
    "import csv"
   ]
  },
  {
   "cell_type": "code",
   "execution_count": 2,
   "id": "5efb1d85-e561-4a3a-909a-f5b9b74a2d6c",
   "metadata": {},
   "outputs": [],
   "source": [
    "import django\n",
    "os.environ.setdefault('DJANGO_SETTINGS_MODULE', 'rest.settings')\n",
    "os.environ[\"DJANGO_ALLOW_ASYNC_UNSAFE\"] = \"true\"\n",
    "django.setup()"
   ]
  },
  {
   "cell_type": "code",
   "execution_count": 3,
   "id": "d88f1838-9e52-439d-a50c-ada9d751f753",
   "metadata": {},
   "outputs": [],
   "source": [
    "from taxonomy.models import Family, Genus, Species"
   ]
  },
  {
   "cell_type": "code",
   "execution_count": 5,
   "id": "490ef19a-f958-4571-a44a-d81d2a21f843",
   "metadata": {},
   "outputs": [],
   "source": [
    "with open(\"assets/plant_list.csv\", 'r', encoding=\"UTF-8\") as f:\n",
    "    reader = csv.DictReader(f)\n",
    "    for row in reader:\n",
    "        family, _ = Family.objects.get_or_create(name=row[\"과명\"], name_kor=row[\"과국명\"])\n",
    "        genus_name = row[\"학명\"].split(\" \")[0]\n",
    "        genus, _ = Genus.objects.get_or_create(name=genus_name, family=family)\n",
    "        scientific_name = row[\"학명\"]\n",
    "        name_kor = row[\"국명\"]\n",
    "        if species_name_kor.find(\"\\'\") == -1:\n",
    "            Species.objects.get_or_create(scientific_name=scientific_name, name_kor=name_kor, genus=genus)         "
   ]
  },
  {
   "cell_type": "code",
   "execution_count": 6,
   "id": "996523c2-4e3b-40ba-b59e-886508f43722",
   "metadata": {},
   "outputs": [],
   "source": [
    "correction_dict = {\n",
    "    \"Cyatheaceae\": \"나무고사리과\",\n",
    "    \"Cephalotaceae\" : \"케팔로투스과\",\n",
    "    \"Melanthiaceae\" : \"여로과\",\n",
    "    \"Anthericaceae\" :\"용설란아과\",\n",
    "    \"Bixaceae\" :\"빅사과\",\n",
    "    \"Convallariaceae\" :\"은방울꽃과\",\n",
    "    \"Leitneriaceae\" :\"레이트네리아과\",\n",
    "    \"Hyacinthaceae\" :\"히아신스과\",\n",
    "    \"Asclepiadaceae\" :\"박주가리아과\",\n",
    "    \"Colchicaceae\" :\"콜키쿰과\",\n",
    "    \"Mimosaceae\" :\"미모사과\",\n",
    "                  }"
   ]
  },
  {
   "cell_type": "code",
   "execution_count": 10,
   "id": "211c944f-d9fa-4c43-ad40-32c284dd0857",
   "metadata": {},
   "outputs": [],
   "source": [
    "for name, name_kor in correction_dict.items():\n",
    "    object = Family.objects.get(name=name)\n",
    "    object.name_kor = name_kor\n",
    "    object.save()"
   ]
  }
 ],
 "metadata": {
  "kernelspec": {
   "display_name": "Django Shell-Plus",
   "language": "python",
   "name": "django_extensions"
  },
  "language_info": {
   "codemirror_mode": {
    "name": "ipython",
    "version": 3
   },
   "file_extension": ".py",
   "mimetype": "text/x-python",
   "name": "python",
   "nbconvert_exporter": "python",
   "pygments_lexer": "ipython3",
   "version": "3.10.5"
  }
 },
 "nbformat": 4,
 "nbformat_minor": 5
}
