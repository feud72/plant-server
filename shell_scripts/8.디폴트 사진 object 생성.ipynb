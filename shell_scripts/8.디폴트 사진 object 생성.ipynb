{
 "cells": [
  {
   "cell_type": "code",
   "execution_count": 1,
   "id": "61cbbe16-7f29-4e99-97d6-8dcfd0aa27bf",
   "metadata": {},
   "outputs": [],
   "source": [
    "import os\n",
    "from datetime import datetime\n",
    "from pathlib import Path"
   ]
  },
  {
   "cell_type": "code",
   "execution_count": 2,
   "id": "b87f297e-fd5b-41a5-a950-fafd5850303d",
   "metadata": {},
   "outputs": [],
   "source": [
    "import django\n",
    "os.environ.setdefault('DJANGO_SETTINGS_MODULE', 'rest.settings')\n",
    "os.environ[\"DJANGO_ALLOW_ASYNC_UNSAFE\"] = \"true\"\n",
    "django.setup()"
   ]
  },
  {
   "cell_type": "code",
   "execution_count": 3,
   "id": "396a3c93-8133-46f6-a380-3f38514035bb",
   "metadata": {},
   "outputs": [],
   "source": [
    "from bs4 import BeautifulSoup\n",
    "import lxml"
   ]
  },
  {
   "cell_type": "code",
   "execution_count": 4,
   "id": "beb3663f-98e5-4330-be09-f61371ae0ea4",
   "metadata": {},
   "outputs": [],
   "source": [
    "from django.contrib.auth.models import User"
   ]
  },
  {
   "cell_type": "code",
   "execution_count": 5,
   "id": "f770452b-8aa4-40f8-b17e-f22d1e8be97a",
   "metadata": {},
   "outputs": [],
   "source": [
    "from taxonomy.models import Species\n",
    "from photos.models import Photo"
   ]
  },
  {
   "cell_type": "code",
   "execution_count": 35,
   "id": "b820a5aa-788a-46bd-b34d-9ff5f3967e6b",
   "metadata": {},
   "outputs": [],
   "source": [
    "bucket_base_url = \"https://bucket-9tbcqs.s3.ap-northeast-2.amazonaws.com/\"\n",
    "path = Path(\"../assets/images/crop\")\n",
    "\n",
    "def find_file(path):\n",
    "    for new_path in path.glob(\"*\"): \n",
    "        if new_path.is_dir():\n",
    "            return find_file(new_path)\n",
    "        else:\n",
    "            return new_path\n",
    "\n",
    "for filename in path.glob(\"*\"):\n",
    "    f = find_file(filename) \n",
    "    pid = f.parent.name\n",
    "    image_path = bucket_base_url + f\"images/{datetime.now().strftime('%Y%m')}/{pid}_00001{f.suffix}\"\n",
    "    thumbnail_path = bucket_base_url + f\"thumbnails/thumbnail_{pid}{f.suffix}\"\n",
    "    obj = Species.objects.get(pid=pid)\n",
    "    Photo.objects.create(user = User.objects.get(username__exact=\"관리자\"), \n",
    "                         plant = obj,\n",
    "                         url = image_path,\n",
    "                         thumbnail = thumbnail_path,\n",
    "                         is_published=True,\n",
    "                         is_peer_reviewed=True)"
   ]
  },
  {
   "cell_type": "code",
   "execution_count": 6,
   "id": "8583812b-afbc-46c2-a1e0-be95cf3e8c9d",
   "metadata": {},
   "outputs": [],
   "source": [
    "#base_url = \"https://bucket-9tbcqs.s3.ap-northeast-2.amazonaws.com/\"\n",
    "base_url = \"https://d3gjf5t0bpg9ql.cloudfront.net/\"\n",
    "dest_url = \"https://d71pexumifcjq.cloudfront.net/\"\n",
    "queryset = Photo.objects.all()\n",
    "for query in queryset:\n",
    "    thumbnail_replaced = query.thumbnail.replace(base_url, dest_url)\n",
    "    image_replaced = query.url.replace(base_url, dest_url)\n",
    "    query.url = image_replaced\n",
    "    query.thumbnail = thumbnail_replaced\n",
    "    query.save()"
   ]
  }
 ],
 "metadata": {
  "kernelspec": {
   "display_name": "Django Shell-Plus",
   "language": "python",
   "name": "django_extensions"
  },
  "language_info": {
   "codemirror_mode": {
    "name": "ipython",
    "version": 3
   },
   "file_extension": ".py",
   "mimetype": "text/x-python",
   "name": "python",
   "nbconvert_exporter": "python",
   "pygments_lexer": "ipython3",
   "version": "3.10.5"
  }
 },
 "nbformat": 4,
 "nbformat_minor": 5
}
