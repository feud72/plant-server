{
 "cells": [
  {
   "cell_type": "code",
   "execution_count": 8,
   "id": "3ef38647-1b19-44c3-a10b-57ebddde1e03",
   "metadata": {},
   "outputs": [],
   "source": [
    "from pathlib import Path\n",
    "import shutil\n",
    "from datetime import datetime"
   ]
  },
  {
   "cell_type": "code",
   "execution_count": 2,
   "id": "bcfecc41-11d7-4f29-b0f8-cc0d68ccfc10",
   "metadata": {},
   "outputs": [],
   "source": [
    "image_path = Path(\"../assets/images/crop\")"
   ]
  },
  {
   "cell_type": "code",
   "execution_count": 18,
   "id": "f275d1ff-45b7-4df9-b8fe-869f79b73639",
   "metadata": {},
   "outputs": [],
   "source": [
    "for file_path in image_path.glob(\"*\"):\n",
    "    new_file_path = Path.joinpath(image_path, f\"{file_path.stem}/{datetime.today().strftime('%Y%m%d')}_00001{file_path.suffix}\")\n",
    "    new_file_path.parent.mkdir(exist_ok=True)\n",
    "    file_path.rename(new_file_path)"
   ]
  }
 ],
 "metadata": {
  "kernelspec": {
   "display_name": "Django Shell-Plus",
   "language": "python",
   "name": "django_extensions"
  },
  "language_info": {
   "codemirror_mode": {
    "name": "ipython",
    "version": 3
   },
   "file_extension": ".py",
   "mimetype": "text/x-python",
   "name": "python",
   "nbconvert_exporter": "python",
   "pygments_lexer": "ipython3",
   "version": "3.10.5"
  }
 },
 "nbformat": 4,
 "nbformat_minor": 5
}
