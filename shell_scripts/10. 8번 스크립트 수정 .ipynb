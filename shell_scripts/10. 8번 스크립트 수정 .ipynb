{
 "cells": [
  {
   "cell_type": "code",
   "execution_count": 1,
   "id": "b03ab075-42d1-4def-bdf0-c5583ad8a08c",
   "metadata": {},
   "outputs": [],
   "source": [
    "from pathlib import Path"
   ]
  },
  {
   "cell_type": "code",
   "execution_count": 2,
   "id": "b5590e46-13ad-4c30-9b35-393ec7e49da1",
   "metadata": {},
   "outputs": [],
   "source": [
    "import os\n",
    "import django\n",
    "os.environ.setdefault('DJANGO_SETTINGS_MODULE', 'rest.settings')\n",
    "os.environ[\"DJANGO_ALLOW_ASYNC_UNSAFE\"] = \"true\"\n",
    "django.setup()"
   ]
  },
  {
   "cell_type": "code",
   "execution_count": 3,
   "id": "5c363cbb-72f6-4469-b77c-5027a4c09491",
   "metadata": {},
   "outputs": [],
   "source": [
    "from django.contrib.auth import get_user_model\n",
    "from django.core.files import File\n",
    "\n",
    "User = get_user_model()"
   ]
  },
  {
   "cell_type": "code",
   "execution_count": 4,
   "id": "50090a18-e62b-49b2-aecb-f26ef72e4695",
   "metadata": {},
   "outputs": [],
   "source": [
    "from photos.models import Photo\n",
    "from taxonomy.models import Species"
   ]
  },
  {
   "cell_type": "code",
   "execution_count": 5,
   "id": "e223dfa4-c33c-4c95-a1ee-3073b4f60c7f",
   "metadata": {},
   "outputs": [],
   "source": [
    "image_path = Path(\"../assets/images/images\")\n",
    "thumbnails_path = Path(\"../assets/images/thumbnails\")"
   ]
  },
  {
   "cell_type": "code",
   "execution_count": 9,
   "id": "f57f76dc-5ea6-446a-bebe-f146b028abe6",
   "metadata": {},
   "outputs": [
    {
     "name": "stdout",
     "output_type": "stream",
     "text": [
      "202206\n"
     ]
    }
   ],
   "source": [
    "for path in image_path.glob(\"*\"):\n",
    "    pid = path.stem \n",
    "    try:\n",
    "        obj = Species.objects.get(pid=pid)\n",
    "        instance, created = Photo.objects.get_or_create(user = User.objects.get(username__exact=\"관리자\"), \n",
    "                             plant = obj,\n",
    "                             is_published=True,\n",
    "                             is_peer_reviewed=True)\n",
    "        if created:\n",
    "            with Path(f\"../assets/images/images/{pid}.jpg\").open('rb') as url:\n",
    "                instance.url.save(content=File(url), name=instance.create_uuid_filename(f\"{pid}.jpg\"))\n",
    "            with Path(f\"../assets/images/thumbnails/{pid}.jpg\").open('rb') as thumbnail:\n",
    "                instance.thumbnail.save(content=File(thumbnail), name=instance.create_uuid_filename(f\"{pid}.jpg\", thumbnail=True))\n",
    "    except Species.DoesNotExist:\n",
    "        print(pid)"
   ]
  }
 ],
 "metadata": {
  "kernelspec": {
   "display_name": "Django Shell-Plus",
   "language": "python",
   "name": "django_extensions"
  },
  "language_info": {
   "codemirror_mode": {
    "name": "ipython",
    "version": 3
   },
   "file_extension": ".py",
   "mimetype": "text/x-python",
   "name": "python",
   "nbconvert_exporter": "python",
   "pygments_lexer": "ipython3",
   "version": "3.10.5"
  }
 },
 "nbformat": 4,
 "nbformat_minor": 5
}
