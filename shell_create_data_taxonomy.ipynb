{
 "cells": [
  {
   "cell_type": "code",
   "execution_count": 11,
   "id": "69158807-b9ea-49f1-a5be-7d3d11dda325",
   "metadata": {},
   "outputs": [],
   "source": [
    "import os\n",
    "import django\n",
    "os.environ.setdefault('DJANGO_SETTINGS_MODULE', 'rest.settings')\n",
    "os.environ[\"DJANGO_ALLOW_ASYNC_UNSAFE\"] = \"true\"\n",
    "django.setup()"
   ]
  },
  {
   "cell_type": "code",
   "execution_count": 2,
   "id": "67067422-b0a2-4d44-96f6-11aa69adcbfb",
   "metadata": {},
   "outputs": [],
   "source": [
    "import csv\n",
    "from taxonomy.models import Family, Genus, Species"
   ]
  },
  {
   "cell_type": "code",
   "execution_count": 12,
   "id": "490ef19a-f958-4571-a44a-d81d2a21f843",
   "metadata": {},
   "outputs": [],
   "source": [
    "with open(\"assets/plant_list.csv\", 'r', encoding=\"UTF-8\") as f:\n",
    "    reader = csv.DictReader(f)\n",
    "    for row in reader:\n",
    "        family, _ = Family.objects.get_or_create(name=row[\"과명\"], name_kor=row[\"과국명\"])\n",
    "        genus_name = row[\"학명\"].split(\" \")[0]\n",
    "        genus, _ = Genus.objects.get_or_create(name=genus_name, family=family)\n",
    "        species_name = row[\"학명\"]\n",
    "        species_name_kor = row[\"국명\"]\n",
    "        if species_name_kor.find(\"\\'\") == -1:\n",
    "            Species.objects.get_or_create(name=species_name, name_kor=species_name_kor, genus=genus)         "
   ]
  }
 ],
 "metadata": {
  "kernelspec": {
   "display_name": "Django Shell-Plus",
   "language": "python",
   "name": "django_extensions"
  },
  "language_info": {
   "codemirror_mode": {
    "name": "ipython",
    "version": 3
   },
   "file_extension": ".py",
   "mimetype": "text/x-python",
   "name": "python",
   "nbconvert_exporter": "python",
   "pygments_lexer": "ipython3",
   "version": "3.10.5"
  }
 },
 "nbformat": 4,
 "nbformat_minor": 5
}
